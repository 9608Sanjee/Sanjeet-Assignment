{
 "cells": [
  {
   "cell_type": "code",
   "execution_count": 1,
   "id": "64292eef-f12f-4ff6-9f50-2f3a2ee1cad7",
   "metadata": {},
   "outputs": [
    {
     "name": "stdout",
     "output_type": "stream",
     "text": [
      "Sum: 15\n",
      "Difference: 5\n",
      "Product: 50\n",
      "Quotient: 2.0\n"
     ]
    }
   ],
   "source": [
    "#1 Calculate the sum, difference, product, and quotient of two numbers.\n",
    "\n",
    "\n",
    "num1 = 10\n",
    "num2 = 5\n",
    "\n",
    "# Calculate the sum\n",
    "sum_result = num1 + num2\n",
    "\n",
    "# Calculate the difference\n",
    "difference_result = num1 - num2\n",
    "\n",
    "# Calculate the product\n",
    "product_result = num1 * num2\n",
    "\n",
    "# Calculate the quotient\n",
    "quotient_result = num1 / num2\n",
    "\n",
    "# Print the results\n",
    "print(\"Sum:\", sum_result)\n",
    "print(\"Difference:\", difference_result)\n",
    "print(\"Product:\", product_result)\n",
    "print(\"Quotient:\", quotient_result)\n"
   ]
  },
  {
   "cell_type": "code",
   "execution_count": 3,
   "id": "fa759e64-ccf6-49a7-b722-879498936aad",
   "metadata": {},
   "outputs": [
    {
     "name": "stdout",
     "output_type": "stream",
     "text": [
      "10 is greater than 5\n"
     ]
    }
   ],
   "source": [
    "#2 Compare two numbers and print the results.\n",
    "\n",
    "\n",
    "\n",
    "num1 = 10\n",
    "num2 = 5\n",
    "\n",
    "# Compare the two numbers\n",
    "if num1 > num2:\n",
    "    print(f\"{num1} is greater than {num2}\")\n",
    "elif num1 < num2:\n",
    "    print(f\"{num1} is less than {num2}\")\n",
    "else:\n",
    "    print(f\"{num1} is equal to {num2}\")\n"
   ]
  },
  {
   "cell_type": "code",
   "execution_count": 4,
   "id": "d894963f-33fd-44b1-9ddc-1ab4672ea4b9",
   "metadata": {},
   "outputs": [
    {
     "name": "stdout",
     "output_type": "stream",
     "text": [
      "Both numbers are positive\n",
      "At least one number is even\n",
      "num1 is not less than num2\n",
      "num1 is not equal to num2\n"
     ]
    }
   ],
   "source": [
    "#3 Check conditions using logical operators.\n",
    "\n",
    "\n",
    "num1 = 10\n",
    "num2 = 5\n",
    "\n",
    "# Check conditions using logical operators\n",
    "if num1 > 0 and num2 > 0:\n",
    "    print(\"Both numbers are positive\")\n",
    "\n",
    "if num1 % 2 == 0 or num2 % 2 == 0:\n",
    "    print(\"At least one number is even\")\n",
    "\n",
    "if not (num1 < num2):\n",
    "    print(\"num1 is not less than num2\")\n",
    "\n",
    "if num1 != num2:\n",
    "    print(\"num1 is not equal to num2\")\n"
   ]
  },
  {
   "cell_type": "code",
   "execution_count": 5,
   "id": "b24ac3b5-db61-4762-98ed-2b0f6afd9346",
   "metadata": {},
   "outputs": [
    {
     "name": "stdout",
     "output_type": "stream",
     "text": [
      "x and y are different objects\n"
     ]
    }
   ],
   "source": [
    "#4 Check the identity of variables.\n",
    "\n",
    "\n",
    "x = [1, 2, 3]\n",
    "y = [1, 2, 3]\n",
    "\n",
    "# Check the identity of variables\n",
    "if x is y:\n",
    "    print(\"x and y are the same object\")\n",
    "else:\n",
    "    print(\"x and y are different objects\")\n"
   ]
  },
  {
   "cell_type": "code",
   "execution_count": 7,
   "id": "a74c8995-0aab-45ec-99f6-812c3eac8ce4",
   "metadata": {},
   "outputs": [
    {
     "name": "stdout",
     "output_type": "stream",
     "text": [
      "Bitwise AND: 0\n",
      "Bitwise OR: 29\n",
      "Bitwise XOR: 29\n",
      "Bitwise NOT of num1: -21\n"
     ]
    }
   ],
   "source": [
    "#5 Perform bitwise operations on any two integers.\n",
    "\n",
    "\n",
    "# Define two integers\n",
    "num1 = 20   \n",
    "num2 = 9   \n",
    "\n",
    "# Perform bitwise AND\n",
    "bitwise_and = num1 & num2\n",
    "print(\"Bitwise AND:\", bitwise_and)\n",
    "\n",
    "# Perform bitwise OR\n",
    "bitwise_or = num1 | num2\n",
    "print(\"Bitwise OR:\", bitwise_or)\n",
    "\n",
    "# Perform bitwise XOR\n",
    "bitwise_xor = num1 ^ num2\n",
    "print(\"Bitwise XOR:\", bitwise_xor)\n",
    "\n",
    "# Perform bitwise NOT (Complement)\n",
    "bitwise_not_num1 = ~num1\n",
    "print(\"Bitwise NOT of num1:\", bitwise_not_num1)\n"
   ]
  },
  {
   "cell_type": "code",
   "execution_count": 9,
   "id": "372feacf-4e59-47b6-ab20-3d0d4cf2a63d",
   "metadata": {},
   "outputs": [
    {
     "name": "stdout",
     "output_type": "stream",
     "text": [
      "Original number: 50\n",
      "Number with changed sign: -50\n"
     ]
    }
   ],
   "source": [
    "#6 Use unary operators to change the sign of a number.\n",
    "\n",
    "number = 50\n",
    "\n",
    "# Change the sign using unary operator (-)\n",
    "negative_number = -number\n",
    "print(\"Original number:\", number)\n",
    "print(\"Number with changed sign:\", negative_number)"
   ]
  },
  {
   "cell_type": "code",
   "execution_count": 10,
   "id": "0440ec4c-ddb6-44de-ab3e-088e2ef933f2",
   "metadata": {},
   "outputs": [
    {
     "name": "stdout",
     "output_type": "stream",
     "text": [
      "Result: Condition is True\n"
     ]
    }
   ],
   "source": [
    "#7 Use the ternary operator to assign values based on conditions.\n",
    "\n",
    "\n",
    "condition = True\n",
    "\n",
    "# Assign values based on the condition using the ternary operator\n",
    "result = \"Condition is True\" if condition else \"Condition is False\"\n",
    "\n",
    "# Print the result\n",
    "print(\"Result:\", result)"
   ]
  },
  {
   "cell_type": "code",
   "execution_count": null,
   "id": "63ee7c3c-308a-4070-b38c-604670efcc9d",
   "metadata": {},
   "outputs": [],
   "source": [
    "#2 I am  not able to understand "
   ]
  }
 ],
 "metadata": {
  "kernelspec": {
   "display_name": "Python 3 (ipykernel)",
   "language": "python",
   "name": "python3"
  },
  "language_info": {
   "codemirror_mode": {
    "name": "ipython",
    "version": 3
   },
   "file_extension": ".py",
   "mimetype": "text/x-python",
   "name": "python",
   "nbconvert_exporter": "python",
   "pygments_lexer": "ipython3",
   "version": "3.10.8"
  }
 },
 "nbformat": 4,
 "nbformat_minor": 5
}
