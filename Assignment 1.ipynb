{
 "cells": [
  {
   "cell_type": "code",
   "execution_count": 1,
   "id": "03d3c69b-88f7-42b1-a0a3-2cc5ceeb91a7",
   "metadata": {},
   "outputs": [
    {
     "name": "stdout",
     "output_type": "stream",
     "text": [
      "Integer number: 42\n",
      "Floating-point number: 42.0\n"
     ]
    }
   ],
   "source": [
    "#1 Covert an integer to a floating-point number.\n",
    "\n",
    "integer_number = 42\n",
    "float_number = float(integer_number)\n",
    "print(\"Integer number:\", integer_number)\n",
    "print(\"Floating-point number:\", float_number)"
   ]
  },
  {
   "cell_type": "code",
   "execution_count": 2,
   "id": "bd3f89ba-39e3-4dd2-a7f2-88fae9fca3e4",
   "metadata": {},
   "outputs": [
    {
     "name": "stdout",
     "output_type": "stream",
     "text": [
      "Floating-point number: 3.14\n",
      "Integer number: 3\n"
     ]
    }
   ],
   "source": [
    "#2 Convert a float to an integer.\n",
    "\n",
    "\n",
    "float_number = 3.14\n",
    "integer_number = int(float_number)\n",
    "print(\"Floating-point number:\", float_number)\n",
    "print(\"Integer number:\", integer_number)"
   ]
  },
  {
   "cell_type": "code",
   "execution_count": 3,
   "id": "82793cd9-5715-433f-a38c-448ad3cce1b4",
   "metadata": {},
   "outputs": [
    {
     "name": "stdout",
     "output_type": "stream",
     "text": [
      "Integer number: 42\n",
      "String number: 42\n"
     ]
    }
   ],
   "source": [
    "#3 Convert an integer to a string.\n",
    "\n",
    "\n",
    "integer_number = 42\n",
    "string_number = str(integer_number)\n",
    "print(\"Integer number:\", integer_number)\n",
    "print(\"String number:\", string_number)"
   ]
  },
  {
   "cell_type": "code",
   "execution_count": 4,
   "id": "8f4b66ac-cc11-4c03-8138-03428ff925a6",
   "metadata": {},
   "outputs": [
    {
     "name": "stdout",
     "output_type": "stream",
     "text": [
      "List: [1, 2, 3, 4, 5]\n",
      "Tuple: (1, 2, 3, 4, 5)\n"
     ]
    }
   ],
   "source": [
    "#4 Convert a list to a tuple.\n",
    "\n",
    "my_list = [1, 2, 3, 4, 5]\n",
    "my_tuple = tuple(my_list)\n",
    "print(\"List:\", my_list)\n",
    "print(\"Tuple:\", my_tuple)\n"
   ]
  },
  {
   "cell_type": "code",
   "execution_count": 5,
   "id": "bd54e794-8d1b-484c-8ffa-bddf5290745a",
   "metadata": {},
   "outputs": [
    {
     "name": "stdout",
     "output_type": "stream",
     "text": [
      "Tuple: (1, 2, 3, 4, 5)\n",
      "List: [1, 2, 3, 4, 5]\n"
     ]
    }
   ],
   "source": [
    "#5 Covert a tuple to a list.\n",
    "\n",
    "\n",
    "my_tuple = (1, 2, 3, 4, 5)\n",
    "my_list = list(my_tuple)\n",
    "print(\"Tuple:\", my_tuple)\n",
    "print(\"List:\", my_list)\n"
   ]
  },
  {
   "cell_type": "code",
   "execution_count": 6,
   "id": "3a040300-6a36-4522-81c2-69b82369a0af",
   "metadata": {},
   "outputs": [
    {
     "name": "stdout",
     "output_type": "stream",
     "text": [
      "Decimal number: 10\n",
      "Binary number: 0b1010\n"
     ]
    }
   ],
   "source": [
    "#6 Convert a decimal number to binary.\n",
    "\n",
    "\n",
    "decimal_number = 10\n",
    "binary_number = bin(decimal_number)\n",
    "print(\"Decimal number:\", decimal_number)\n",
    "print(\"Binary number:\", binary_number)\n"
   ]
  },
  {
   "cell_type": "code",
   "execution_count": 7,
   "id": "d9d060a9-5b6b-427e-a355-af7a76bf9584",
   "metadata": {},
   "outputs": [
    {
     "name": "stdout",
     "output_type": "stream",
     "text": [
      "Number: 42\n",
      "Boolean value: True\n"
     ]
    }
   ],
   "source": [
    "#7 Convert a non-zero number to Boolean\n",
    "\n",
    "number = 42\n",
    "boolean_value = bool(number)\n",
    "print(\"Number:\", number)\n",
    "print(\"Boolean value:\", boolean_value)"
   ]
  },
  {
   "cell_type": "code",
   "execution_count": null,
   "id": "50d3c3d5-6def-40cf-9b80-8ddd1858af7b",
   "metadata": {},
   "outputs": [],
   "source": []
  }
 ],
 "metadata": {
  "kernelspec": {
   "display_name": "Python 3 (ipykernel)",
   "language": "python",
   "name": "python3"
  },
  "language_info": {
   "codemirror_mode": {
    "name": "ipython",
    "version": 3
   },
   "file_extension": ".py",
   "mimetype": "text/x-python",
   "name": "python",
   "nbconvert_exporter": "python",
   "pygments_lexer": "ipython3",
   "version": "3.10.8"
  }
 },
 "nbformat": 4,
 "nbformat_minor": 5
}
