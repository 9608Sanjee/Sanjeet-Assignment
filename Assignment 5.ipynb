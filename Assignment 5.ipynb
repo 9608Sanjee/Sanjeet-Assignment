{
 "cells": [
  {
   "cell_type": "code",
   "execution_count": 1,
   "id": "c93dbacf-d683-4159-b07e-659eb0268152",
   "metadata": {},
   "outputs": [],
   "source": [
    "#1 Write a program to print numbers from 1 to 10, but stop if the number is 5.\n",
    "\n",
    "for num in range(1, 11):\n",
    "    if num == 5:\n",
    "        break  # Stop the loop if the number is 5\n",
    "    print(num)"
   ]
  },
  {
   "cell_type": "code",
   "execution_count": 2,
   "id": "d0197e75-d7e4-4fe1-921e-5854f298bfa5",
   "metadata": {},
   "outputs": [],
   "source": [
    "#2 Write a program to iterate through a list and stop when encountering a specific element.\n",
    "\n",
    "\n",
    "def stop_at_specific_element(lst, target):\n",
    "    for element in lst:\n",
    "        print(element)\n",
    "        if element == target:\n",
    "            break\n",
    "\n",
    "# Example usage:\n",
    "my_list = [1, 2, 3, 4, 5, 6, 7, 8, 9, 10]\n",
    "stop_at_specific_element(my_list, 5)\n"
   ]
  },
  {
   "cell_type": "code",
   "execution_count": 3,
   "id": "a62f495e-0422-4d75-ab38-992700dae466",
   "metadata": {},
   "outputs": [],
   "source": [
    "#3 Write a program to skip printing even numbers from 1 to 10.\n",
    "\n",
    "for num in range(1, 11):\n",
    "    if num % 2 == 0:\n",
    "        continue  # Skip printing even numbers\n",
    "    print(num)"
   ]
  },
  {
   "cell_type": "code",
   "execution_count": 4,
   "id": "d0a96356-e471-415d-a763-387be31fd7ca",
   "metadata": {},
   "outputs": [],
   "source": [
    "#4 Write a program to print numbers from 0 to 9 using range().\n",
    "\n",
    "\n",
    "for num in range(10):\n",
    "    print(num)"
   ]
  },
  {
   "cell_type": "code",
   "execution_count": 5,
   "id": "d2f2d2af-14e2-47d7-aa07-a52561ae7356",
   "metadata": {},
   "outputs": [],
   "source": [
    "#5 Write a program to print multiplication tables from 1 to 5, but stop after the first table is printed for each\n",
    "number.\n",
    "\n",
    "multiplier = 1\n",
    "\n",
    "while multiplier <= 5:\n",
    "    print(f\"Multiplication table for {multiplier}:\")\n",
    "\n",
    "    i = 1\n",
    "    while i <= 10:\n",
    "        result = multiplier * i\n",
    "        print(f\"{multiplier} x {i} = {result}\")\n",
    "        i += 1\n",
    "\n",
    "    print()  # Add a newline to separate tables\n",
    "    multiplier += 1"
   ]
  },
  {
   "cell_type": "code",
   "execution_count": null,
   "id": "a4be9e3f-9256-49b0-bda6-69600913666c",
   "metadata": {},
   "outputs": [],
   "source": [
    "#6 Write a program to skip printing even numbers using a while loop.\n",
    "\n",
    "num = 1\n",
    "\n",
    "while num <= 10:\n",
    "    if num % 2 == 0:\n",
    "        num += 1\n",
    "        continue  # Skip printing even numbers\n",
    "    print(num)\n",
    "    num += 1"
   ]
  }
 ],
 "metadata": {
  "kernelspec": {
   "display_name": "Python 3 (ipykernel)",
   "language": "python",
   "name": "python3"
  },
  "language_info": {
   "codemirror_mode": {
    "name": "ipython",
    "version": 3
   },
   "file_extension": ".py",
   "mimetype": "text/x-python",
   "name": "python",
   "nbconvert_exporter": "python",
   "pygments_lexer": "ipython3",
   "version": "3.10.8"
  }
 },
 "nbformat": 4,
 "nbformat_minor": 5
}
